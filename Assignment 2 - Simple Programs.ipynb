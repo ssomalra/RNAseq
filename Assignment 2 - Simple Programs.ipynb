{
 "cells": [
  {
   "cell_type": "markdown",
   "id": "7a807c86",
   "metadata": {},
   "source": [
    "### 1. Write a python program to ask the user to input their name and then output the type and length of the input.  "
   ]
  },
  {
   "cell_type": "code",
   "execution_count": 6,
   "id": "5f5648d0",
   "metadata": {},
   "outputs": [
    {
     "name": "stdout",
     "output_type": "stream",
     "text": [
      "Enter your name: Sahiti\n",
      "<class 'str'>\n",
      "6\n"
     ]
    }
   ],
   "source": [
    "name = input('Enter your name: ')\n",
    "print(type(name))\n",
    "print(len(name))"
   ]
  },
  {
   "cell_type": "markdown",
   "id": "159ab371",
   "metadata": {},
   "source": [
    "### 2. Write a program to output the last 11 letters of 'Introduction to Informatics'.  "
   ]
  },
  {
   "cell_type": "code",
   "execution_count": null,
   "id": "e4432bf6",
   "metadata": {},
   "outputs": [],
   "source": [
    "str = 'Introduction to Informatics'\n",
    "print(str[-11:])"
   ]
  },
  {
   "cell_type": "markdown",
   "id": "da982e3b",
   "metadata": {},
   "source": [
    "### 3. Write a program to output the 3rd to the 11th letters of 'Introduction to Informatics'. "
   ]
  },
  {
   "cell_type": "code",
   "execution_count": null,
   "id": "420df5d3",
   "metadata": {},
   "outputs": [],
   "source": [
    "str = 'Introduction to Informatics'\n",
    "print(str[2:11])"
   ]
  },
  {
   "cell_type": "markdown",
   "id": "6827d1a9",
   "metadata": {},
   "source": [
    "### 4. Write a program that asks the user to input 10 integers, and then prints the last odd number that was entered. If no odd number is entered, it should print a message to that effect.  "
   ]
  },
  {
   "cell_type": "code",
   "execution_count": 5,
   "id": "f0b85cf7",
   "metadata": {},
   "outputs": [
    {
     "name": "stdout",
     "output_type": "stream",
     "text": [
      "Enter 10 integers with a space between each number: 1 2 3 4 5 6 7 8 9 0\n",
      "[1, 3, 5, 7, 9]\n",
      "9\n"
     ]
    }
   ],
   "source": [
    "ints = input('Enter 10 integers with a space between each number: ')\n",
    "list_int = ints.split(' ')\n",
    "list_int = [int(x) for x in list_int]\n",
    "\n",
    "odd_ints = []\n",
    "\n",
    "for num in list_int:\n",
    "    if num%2!=0:\n",
    "        odd_ints.append(num)\n",
    "\n",
    "if len(odd_ints) == 0:\n",
    "    print('No odd numbers were entered')\n",
    "else:\n",
    "    print(odd_ints[len(odd_ints)-1])"
   ]
  },
  {
   "cell_type": "markdown",
   "id": "d10a64d1",
   "metadata": {},
   "source": [
    "### 5. Write a program that asks the user to input a 5-digit number, do a for loop to iterate through each digit and print the sum of those digits. "
   ]
  },
  {
   "cell_type": "code",
   "execution_count": 1,
   "id": "d00d9d11",
   "metadata": {},
   "outputs": [
    {
     "name": "stdout",
     "output_type": "stream",
     "text": [
      "Enter a 5-digit number: 12345\n",
      "15\n"
     ]
    }
   ],
   "source": [
    "num = input('Enter a 5-digit number: ')\n",
    "\n",
    "sum = 0\n",
    "for i in num:\n",
    "    sum += int(i)\n",
    "print(sum)"
   ]
  },
  {
   "cell_type": "markdown",
   "id": "4b99f18b",
   "metadata": {},
   "source": [
    "### 6. Write a program that reverses a string that is entered by the user, by using a for loop."
   ]
  },
  {
   "cell_type": "code",
   "execution_count": null,
   "id": "f5eb98f4",
   "metadata": {},
   "outputs": [],
   "source": [
    "string = input('Enter a string: ')\n",
    "\n",
    "rev_string = ''\n",
    "for char in string[::-1]:\n",
    "    rev_string += char\n",
    "print(rev_string)"
   ]
  },
  {
   "cell_type": "markdown",
   "id": "86075048",
   "metadata": {},
   "source": [
    "### 7. Use string operator '*' to output the string 'Informatics' 3 times. "
   ]
  },
  {
   "cell_type": "code",
   "execution_count": null,
   "id": "59173293",
   "metadata": {},
   "outputs": [],
   "source": [
    "string = 'Informatics'\n",
    "print(string*3)"
   ]
  },
  {
   "cell_type": "markdown",
   "id": "a3543afe",
   "metadata": {},
   "source": [
    "### 8. Write a program to output all numbers (from 0 to 100) that are divisible by 5. "
   ]
  },
  {
   "cell_type": "code",
   "execution_count": null,
   "id": "e2bbe25d",
   "metadata": {},
   "outputs": [],
   "source": [
    "for num in range(0,101):\n",
    "    if num%5==0:\n",
    "        print(num)"
   ]
  },
  {
   "cell_type": "markdown",
   "id": "f3b68159",
   "metadata": {},
   "source": [
    "### 9. Write a program to ask the user to input a negative number and output the absolute value of it using a function i.e. not multiplying it with -1."
   ]
  },
  {
   "cell_type": "code",
   "execution_count": null,
   "id": "5e8c9627",
   "metadata": {},
   "outputs": [],
   "source": [
    "num = int(input('Enter a negative number: '))\n",
    "print(abs(num))"
   ]
  },
  {
   "cell_type": "markdown",
   "id": "bd6a9a74",
   "metadata": {},
   "source": [
    "### 10. Write a program to output a number that's divisible by 3 and is as close to 100 as possible. Use exhaustive enumeration. "
   ]
  },
  {
   "cell_type": "code",
   "execution_count": 14,
   "id": "31854ff2",
   "metadata": {},
   "outputs": [
    {
     "name": "stdout",
     "output_type": "stream",
     "text": [
      "99\n"
     ]
    }
   ],
   "source": [
    "closest_num = 0\n",
    "for i in range(100, 0, -1):\n",
    "    if i%3==0:\n",
    "        closest_num=i\n",
    "        break\n",
    "print(closest_num)"
   ]
  }
 ],
 "metadata": {
  "kernelspec": {
   "display_name": "Python 3 (ipykernel)",
   "language": "python",
   "name": "python3"
  },
  "language_info": {
   "codemirror_mode": {
    "name": "ipython",
    "version": 3
   },
   "file_extension": ".py",
   "mimetype": "text/x-python",
   "name": "python",
   "nbconvert_exporter": "python",
   "pygments_lexer": "ipython3",
   "version": "3.8.8"
  }
 },
 "nbformat": 4,
 "nbformat_minor": 5
}
